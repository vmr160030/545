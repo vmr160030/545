{
 "cells": [
  {
   "cell_type": "code",
   "execution_count": null,
   "metadata": {},
   "outputs": [],
   "source": [
    "import matplotlib.pyplot as plt\n",
    "import numpy as np\n",
    "import hh\n",
    "import importlib\n",
    "importlib.reload(hh)\n",
    "from ipywidgets import *\n",
    "%matplotlib widget"
   ]
  },
  {
   "attachments": {},
   "cell_type": "markdown",
   "metadata": {},
   "source": [
    "## Simulating the HH experience"
   ]
  },
  {
   "cell_type": "code",
   "execution_count": null,
   "metadata": {},
   "outputs": [],
   "source": [
    "neuron = hh.HH(tFinal=80)\n",
    "neuron.initialize()\n",
    "print(f'number of timepoints = {len(neuron.time)}')\n",
    "arr_Iext = np.zeros(neuron.time.shape[0])\n",
    "arr_Iext[10:] = -6\n",
    "\n",
    "dt_input = widgets.BoundedFloatText(value=0.1, min=0.01, max=1.0, step=0.01, description='dt', disabled=False)\n",
    "button = widgets.Button(description='Run', disabled=False, button_style='', tooltip='Run', icon='check')\n",
    "\n",
    "display(button)\n",
    "display(dt_input)\n",
    "fig, axs = plt.subplots(2, 1, figsize=(8, 4))\n",
    "axs[0].plot(neuron.time, arr_Iext)\n",
    "axs[0].set_ylabel('Input current')\n",
    "ax = axs[1]\n",
    "ax.set_xlim(0, neuron.time.max())\n",
    "ax.set_ylim(-20, 100)\n",
    "ax.scatter(0, -neuron.arr_V[0], s=5, c='k')\n",
    "ax.set_ylabel('Membrane potential')\n",
    "\n",
    "i = 0\n",
    "def on_button_clicked(b):\n",
    "    global i\n",
    "    global neuron\n",
    "    global arr_Iext\n",
    "    for iteration in range(500):\n",
    "        neuron.dt = dt_input.value\n",
    "        Ik, Ina, Il = neuron.update_currents(i)\n",
    "        neuron.arr_V[i+1] = neuron.update_voltage(Ik, Ina, Il, arr_Iext[i], i)\n",
    "        ax.scatter(neuron.time[i], -neuron.arr_V[i], s=5, c='C4')\n",
    "        i+=1\n",
    "        fig.canvas.draw_idle()\n",
    "\n",
    "button.on_click(on_button_clicked)\n"
   ]
  },
  {
   "cell_type": "code",
   "execution_count": null,
   "metadata": {},
   "outputs": [],
   "source": [
    "# What the above graph should look like\n",
    "%matplotlib inline\n",
    "neuron = hh.HH(tFinal=80)\n",
    "neuron.initialize()\n",
    "neuron.simulate(arr_Iext)\n",
    "plt.figure()\n",
    "plt.plot(neuron.time, -neuron.arr_V, 'k')\n",
    "plt.show()\n",
    "%matplotlib widget"
   ]
  },
  {
   "attachments": {},
   "cell_type": "markdown",
   "metadata": {},
   "source": [
    "#### \"The step value had to be very small initially (since there are no differences at t = 0) and it also had to be changed repeatedly during a run, because the differences became unmanageable if it was too large. It varied between about 0.01 ms at the beginning of a run or 0.02 ms during the rising phase of the action potential, and 1 ms during the small oscillations which follow the spike.\"\n",
    "\n",
    "Hodgkin & Huxley"
   ]
  },
  {
   "attachments": {},
   "cell_type": "markdown",
   "metadata": {},
   "source": [
    "## Simulate constant current inputs of varying amplitudes"
   ]
  },
  {
   "cell_type": "code",
   "execution_count": null,
   "metadata": {},
   "outputs": [],
   "source": [
    "# Precompute outputs\n",
    "ls_Iexts = []\n",
    "ls_arr_outs = []\n",
    "for Iamp in np.arange(-3, -14, -0.25):\n",
    "    neuron = hh.HH(tFinal=100)\n",
    "    neuron.initialize()\n",
    "    \n",
    "    Iext = np.zeros(neuron.time.shape[0])\n",
    "    Iext[100:] = Iamp\n",
    "    \n",
    "    neuron.simulate(Iext)\n",
    "    ls_Iexts.append(Iext)\n",
    "\n",
    "    arr_append = np.dstack((neuron.arr_h, neuron.arr_m, neuron.arr_n, neuron.arr_V))\n",
    "    ls_arr_outs.append(arr_append)"
   ]
  },
  {
   "cell_type": "code",
   "execution_count": null,
   "metadata": {},
   "outputs": [],
   "source": [
    "# Interactive plot\n",
    "idx = 0\n",
    "arr_out = ls_arr_outs[idx].squeeze()\n",
    "Iext = ls_Iexts[idx]\n",
    "fig = plt.figure(figsize=(10, 6))\n",
    "ax1 = fig.add_subplot(3, 1, 1)\n",
    "l1 = ax1.plot(Iext)\n",
    "ax1.set_ylim(-15, 10)\n",
    "ax1.set_title(f'Input current')# Title doesn't dynamically update  = {Iext.max():.2f}')\n",
    "\n",
    "ax = fig.add_subplot(3, 1, 2)\n",
    "l2 = ax.plot(-arr_out[:, 3])\n",
    "ax.set_ylim(-20, 100)\n",
    "ax.set_title('Membrane potential')\n",
    "\n",
    "ax = fig.add_subplot(3, 1, 3)\n",
    "l3 = ax.plot(arr_out[:, 0], label='h')\n",
    "l4 = ax.plot(arr_out[:, 1], label='m')\n",
    "l5 = ax.plot(arr_out[:, 2], label='n')\n",
    "ax.legend(loc=(1.05, 0.5))\n",
    "ax.set_ylim(0, 1)\n",
    "plt.show()\n",
    "plt.subplots_adjust(hspace=0.5)\n",
    "\n",
    "def update(idx=0):\n",
    "    arr_out = ls_arr_outs[idx].squeeze()\n",
    "    Iext = ls_Iexts[idx]\n",
    "    l1[0].set_ydata(Iext)\n",
    "    l2[0].set_ydata(-arr_out[:, 3])\n",
    "    l3[0].set_ydata(arr_out[:, 0])\n",
    "    l4[0].set_ydata(arr_out[:, 1])\n",
    "    l5[0].set_ydata(arr_out[:, 2])\n",
    "    # ax1.set_title(f'Input current = {Iext.max():.2f}')\n",
    "    fig.canvas.draw_idle()\n",
    "\n",
    "interact(update, idx=(0, len(ls_Iexts)-1, 1))"
   ]
  },
  {
   "attachments": {},
   "cell_type": "markdown",
   "metadata": {},
   "source": [
    "## Why do we see the sudden spiking behavior?"
   ]
  },
  {
   "attachments": {},
   "cell_type": "markdown",
   "metadata": {},
   "source": [
    "## What do you notice about the refractory period?"
   ]
  },
  {
   "cell_type": "code",
   "execution_count": null,
   "metadata": {},
   "outputs": [],
   "source": []
  },
  {
   "cell_type": "code",
   "execution_count": null,
   "metadata": {},
   "outputs": [],
   "source": []
  },
  {
   "cell_type": "code",
   "execution_count": null,
   "metadata": {},
   "outputs": [],
   "source": []
  },
  {
   "cell_type": "code",
   "execution_count": null,
   "metadata": {},
   "outputs": [],
   "source": []
  },
  {
   "cell_type": "code",
   "execution_count": null,
   "metadata": {},
   "outputs": [],
   "source": []
  },
  {
   "cell_type": "code",
   "execution_count": null,
   "metadata": {},
   "outputs": [],
   "source": []
  },
  {
   "cell_type": "code",
   "execution_count": null,
   "metadata": {},
   "outputs": [],
   "source": []
  },
  {
   "cell_type": "code",
   "execution_count": null,
   "metadata": {},
   "outputs": [],
   "source": []
  }
 ],
 "metadata": {
  "kernelspec": {
   "display_name": "rnn",
   "language": "python",
   "name": "python3"
  },
  "language_info": {
   "codemirror_mode": {
    "name": "ipython",
    "version": 3
   },
   "file_extension": ".py",
   "mimetype": "text/x-python",
   "name": "python",
   "nbconvert_exporter": "python",
   "pygments_lexer": "ipython3",
   "version": "3.10.6"
  },
  "orig_nbformat": 4,
  "vscode": {
   "interpreter": {
    "hash": "4f22b2337f3b9d67483c3060db84a24ef32bc3982284c19dea15a1a61cd03570"
   }
  }
 },
 "nbformat": 4,
 "nbformat_minor": 2
}
