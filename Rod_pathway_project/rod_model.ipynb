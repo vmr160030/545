{
 "cells": [
  {
   "cell_type": "code",
   "execution_count": 1,
   "metadata": {},
   "outputs": [
    {
     "data": {
      "text/plain": [
       "<module 'rod' from '/Users/riekelabbackup/Desktop/Vyom/Exercises/545/Rod_pathway_project/rod.py'>"
      ]
     },
     "execution_count": 1,
     "metadata": {},
     "output_type": "execute_result"
    }
   ],
   "source": [
    "import rod\n",
    "from brian2 import *\n",
    "import importlib\n",
    "importlib.reload(rod)"
   ]
  },
  {
   "cell_type": "code",
   "execution_count": 2,
   "metadata": {},
   "outputs": [
    {
     "name": "stdout",
     "output_type": "stream",
     "text": [
      "Ih + Ip/(cell_area) + Ileak\n"
     ]
    }
   ],
   "source": [
    "r1 = rod.Rod()\n",
    "r1.define_Ih()\n",
    "r1.define_Ip()\n",
    "r1.define_Ileak()\n",
    "r1.define_total()\n",
    "# r1.create_rod()"
   ]
  },
  {
   "cell_type": "code",
   "execution_count": 6,
   "metadata": {},
   "outputs": [],
   "source": [
    "namespace = {}\n",
    "for key, value in r1.constants.items():\n",
    "    for k, v in value.items():\n",
    "        namespace[k] = v\n",
    "r1.namespace = namespace"
   ]
  },
  {
   "cell_type": "code",
   "execution_count": 9,
   "metadata": {},
   "outputs": [],
   "source": [
    "morpho = Cylinder(diameter=r1.diam, n=1, length=r1.length)\n",
    "eqs = ''\n",
    "for eq in r1.eqs.values():\n",
    "    eqs += eq\n",
    "neuron = SpatialNeuron(morphology=morpho, model=eqs, Cm=r1.membrane_capacitance,\n",
    "                        Ri=r1.Ra, method='euler', namespace=r1.namespace)\n"
   ]
  },
  {
   "cell_type": "code",
   "execution_count": 13,
   "metadata": {},
   "outputs": [
    {
     "data": {
      "text/html": [
       "NeuronGroup 'spatialneuron_1' with 1 neurons.<br>\n",
       "<b>Model:</b><nr>\n",
       "\\begin{align*}ah &= aoh e^{\\frac{V - Vhalf_{h}}{2 Sh}} && \\text{(unit of $ah$: $\\mathrm{Hz}$)}\\\\\n",
       "bh &= aoh e^{\\frac{- V + Vhalf_{h}}{2 Sh}} && \\text{(unit of $bh$: $\\mathrm{Hz}$)}\\\\\n",
       "gh &= gh_{bar} nh && \\text{(unit of $gh$: $\\frac{\\mathrm{S}}{\\mathrm{m}^{2}}$)}\\\\\n",
       "Ip &= \\frac{A \\left(33 - e^{- \\frac{t}{\\mathrm{T}_{3}}} - 32 e^{- \\frac{t}{\\mathrm{T}_{1}}} - \\frac{33}{e^{\\frac{RodB - t}{\\mathrm{T}_{2}}} + 1}\\right)}{33} + Idark && \\text{(unit of $Ip$: $\\mathrm{A}$)}\\\\\n",
       "Ileak &= \\bar{gl} \\left(- El_{rev} + V\\right) && \\text{(unit of $Ileak$: $\\frac{\\mathrm{A}}{\\mathrm{m}^{2}}$)}\\\\\n",
       "Im &= 0 && \\text{(unit of $Im$: $\\frac{\\mathrm{A}}{\\mathrm{m}^{2}}$)}\\\\\n",
       "gtot__private &= 0 && \\text{(unit of $gtot^{private}$: $\\frac{\\mathrm{S}}{\\mathrm{m}^{2}}$)}\\\\\n",
       "I0__private &= 0 && \\text{(unit of $I^{private}_{0}$: $\\frac{\\mathrm{A}}{\\mathrm{m}^{2}}$)}\\\\\n",
       "tauh &= \\frac{1}{ah + bh} && \\text{(unit of $tauh$: $\\mathrm{s}$)}\\\\\n",
       "Ih &= gh \\left(- Eh_{rev} + V\\right) && \\text{(unit of $Ih$: $\\frac{\\mathrm{A}}{\\mathrm{m}^{2}}$)}\\\\\n",
       "time_constant &= \\frac{Cm}{gtot^{private}} && \\text{(unit of $time_{constant}$: $\\mathrm{s}$)}\\\\\n",
       "space_constant &= \\frac{0.629960524947437 \\left(\\frac{area}{\\frac{1}{r_{length 2}} + \\frac{1}{r_{length 1}}}\\right)^{0.166666666666667}}{\\pi^{0.333333333333333} \\left(Ri gtot^{private}\\right)^{0.5}} && \\text{(unit of $space_{constant}$: $\\mathrm{m}$)}\\\\\n",
       "infh &= ah tauh && \\text{(unit of $infh$: $\\mathrm{rad}$)}\\\\\n",
       "\\frac{\\mathrm{d}V}{\\mathrm{d}t} &= \\frac{- Ih - Ileak - \\frac{Ip}{cell_{area}}}{Cm} && \\text{(unit of $V$: $\\mathrm{V}$)}\\\\\n",
       "\\frac{\\mathrm{d}nh}{\\mathrm{d}t} &= \\frac{infh - nh}{tauh} && \\text{(unit of $nh$: $\\mathrm{rad}$)}\\\\\n",
       "A &&& \\text{(unit: $\\mathrm{A}$)}\\\\\n",
       "Cm &&& \\text{(unit: $\\frac{\\mathrm{F}}{\\mathrm{m}^{2}}$, flags: constant)}\\\\\n",
       "Ic &&& \\text{(unit: $\\frac{\\mathrm{A}}{\\mathrm{m}^{2}}$)}\\\\\n",
       "Ri &&& \\text{(unit: $\\mathrm{ohm}\\,\\mathrm{m}$, flags: constant, shared)}\\\\\n",
       "area &&& \\text{(unit: $\\mathrm{m^2}$, flags: constant)}\\\\\n",
       "diameter &&& \\text{(unit: $\\mathrm{m}$, flags: constant)}\\\\\n",
       "distance &&& \\text{(unit: $\\mathrm{m}$, flags: constant)}\\\\\n",
       "length &&& \\text{(unit: $\\mathrm{m}$, flags: constant)}\\\\\n",
       "r_{length 1} &&& \\text{(unit: $\\mathrm{m}$, flags: constant)}\\\\\n",
       "r_{length 2} &&& \\text{(unit: $\\mathrm{m}$, flags: constant)}\\\\\n",
       "v &&& \\text{(unit: $\\mathrm{V}$)}\\\\\n",
       "volume &&& \\text{(unit: $\\mathrm{m^3}$)}\\end{align*}"
      ],
      "text/plain": [
       "SpatialNeuron(clock=Clock(dt=1. * msecond, name='defaultclock'), when=start, order=0, name='spatialneuron_1')"
      ]
     },
     "execution_count": 13,
     "metadata": {},
     "output_type": "execute_result"
    }
   ],
   "source": [
    "neuron"
   ]
  },
  {
   "cell_type": "code",
   "execution_count": 12,
   "metadata": {},
   "outputs": [
    {
     "data": {
      "text/plain": [
       "{<StateMonitor, recording ['V', 'Ip', 'Ih'] from 'spatialneuron_1'>}"
      ]
     },
     "execution_count": 12,
     "metadata": {},
     "output_type": "execute_result"
    }
   ],
   "source": [
    "collect()"
   ]
  },
  {
   "cell_type": "code",
   "execution_count": 16,
   "metadata": {},
   "outputs": [
    {
     "ename": "ValueError",
     "evalue": "'statemonitor' has been included in the network but not the object on which it depends.",
     "output_type": "error",
     "traceback": [
      "\u001b[0;31m---------------------------------------------------------------------------\u001b[0m",
      "\u001b[0;31mValueError\u001b[0m                                Traceback (most recent call last)",
      "\u001b[1;32m/Users/riekelabbackup/Desktop/Vyom/Exercises/545/Rod_pathway_project/rod_model.ipynb Cell 7\u001b[0m in \u001b[0;36m1\n\u001b[1;32m     <a href='vscode-notebook-cell:/Users/riekelabbackup/Desktop/Vyom/Exercises/545/Rod_pathway_project/rod_model.ipynb#W4sZmlsZQ%3D%3D?line=9'>10</a>\u001b[0m neuron\u001b[39m.\u001b[39mA \u001b[39m=\u001b[39m \u001b[39m0\u001b[39m\u001b[39m*\u001b[39mpA\n\u001b[1;32m     <a href='vscode-notebook-cell:/Users/riekelabbackup/Desktop/Vyom/Exercises/545/Rod_pathway_project/rod_model.ipynb#W4sZmlsZQ%3D%3D?line=10'>11</a>\u001b[0m \u001b[39m# Initialize gating variables\u001b[39;00m\n\u001b[0;32m---> <a href='vscode-notebook-cell:/Users/riekelabbackup/Desktop/Vyom/Exercises/545/Rod_pathway_project/rod_model.ipynb#W4sZmlsZQ%3D%3D?line=11'>12</a>\u001b[0m r1\u001b[39m.\u001b[39;49mnet\u001b[39m.\u001b[39;49mrun(\u001b[39m1\u001b[39;49m\u001b[39m*\u001b[39;49mms, namespace\u001b[39m=\u001b[39;49mr1\u001b[39m.\u001b[39;49mnamespace)\n\u001b[1;32m     <a href='vscode-notebook-cell:/Users/riekelabbackup/Desktop/Vyom/Exercises/545/Rod_pathway_project/rod_model.ipynb#W4sZmlsZQ%3D%3D?line=12'>13</a>\u001b[0m \u001b[39m# self.model.nKx = neuron.infKx[:][0]\u001b[39;00m\n\u001b[1;32m     <a href='vscode-notebook-cell:/Users/riekelabbackup/Desktop/Vyom/Exercises/545/Rod_pathway_project/rod_model.ipynb#W4sZmlsZQ%3D%3D?line=13'>14</a>\u001b[0m \u001b[39m# self.model.mKv = neuron.infmKv[:][0]\u001b[39;00m\n\u001b[1;32m     <a href='vscode-notebook-cell:/Users/riekelabbackup/Desktop/Vyom/Exercises/545/Rod_pathway_project/rod_model.ipynb#W4sZmlsZQ%3D%3D?line=14'>15</a>\u001b[0m \u001b[39m# self.model.mCa = neuron.infmCa[:][0]\u001b[39;00m\n\u001b[1;32m     <a href='vscode-notebook-cell:/Users/riekelabbackup/Desktop/Vyom/Exercises/545/Rod_pathway_project/rod_model.ipynb#W4sZmlsZQ%3D%3D?line=15'>16</a>\u001b[0m \u001b[39m# self.model.hCa = neuron.infhCa[:][0]\u001b[39;00m\n\u001b[1;32m     <a href='vscode-notebook-cell:/Users/riekelabbackup/Desktop/Vyom/Exercises/545/Rod_pathway_project/rod_model.ipynb#W4sZmlsZQ%3D%3D?line=16'>17</a>\u001b[0m neuron\u001b[39m.\u001b[39mnh \u001b[39m=\u001b[39m neuron\u001b[39m.\u001b[39minfh[:][\u001b[39m0\u001b[39m]\n",
      "File \u001b[0;32m~/opt/anaconda3/envs/rnn/lib/python3.10/site-packages/brian2/core/base.py:293\u001b[0m, in \u001b[0;36mdevice_override.<locals>.device_override_decorator.<locals>.device_override_decorated_function\u001b[0;34m(*args, **kwds)\u001b[0m\n\u001b[1;32m    291\u001b[0m     \u001b[39mreturn\u001b[39;00m \u001b[39mgetattr\u001b[39m(curdev, name)(\u001b[39m*\u001b[39margs, \u001b[39m*\u001b[39m\u001b[39m*\u001b[39mkwds)\n\u001b[1;32m    292\u001b[0m \u001b[39melse\u001b[39;00m:\n\u001b[0;32m--> 293\u001b[0m     \u001b[39mreturn\u001b[39;00m func(\u001b[39m*\u001b[39;49margs, \u001b[39m*\u001b[39;49m\u001b[39m*\u001b[39;49mkwds)\n",
      "File \u001b[0;32m~/opt/anaconda3/envs/rnn/lib/python3.10/site-packages/brian2/units/fundamentalunits.py:2462\u001b[0m, in \u001b[0;36mcheck_units.<locals>.do_check_units.<locals>.new_f\u001b[0;34m(*args, **kwds)\u001b[0m\n\u001b[1;32m   2455\u001b[0m             error_message \u001b[39m=\u001b[39m (\u001b[39mf\u001b[39m\u001b[39m\"\u001b[39m\u001b[39mFunction \u001b[39m\u001b[39m'\u001b[39m\u001b[39m{\u001b[39;00mf\u001b[39m.\u001b[39m\u001b[39m__name__\u001b[39m\u001b[39m}\u001b[39;00m\u001b[39m'\u001b[39m\u001b[39m \u001b[39m\u001b[39m\"\u001b[39m\n\u001b[1;32m   2456\u001b[0m                              \u001b[39mf\u001b[39m\u001b[39m\"\u001b[39m\u001b[39mexpected a quantitity with unit \u001b[39m\u001b[39m\"\u001b[39m\n\u001b[1;32m   2457\u001b[0m                              \u001b[39mf\u001b[39m\u001b[39m\"\u001b[39m\u001b[39m{\u001b[39;00munit\u001b[39m}\u001b[39;00m\u001b[39m for argument \u001b[39m\u001b[39m'\u001b[39m\u001b[39m{\u001b[39;00mk\u001b[39m}\u001b[39;00m\u001b[39m'\u001b[39m\u001b[39m but got \u001b[39m\u001b[39m\"\u001b[39m\n\u001b[1;32m   2458\u001b[0m                              \u001b[39mf\u001b[39m\u001b[39m\"\u001b[39m\u001b[39m'\u001b[39m\u001b[39m{\u001b[39;00mvalue\u001b[39m}\u001b[39;00m\u001b[39m'\u001b[39m\u001b[39m\"\u001b[39m)\n\u001b[1;32m   2459\u001b[0m             \u001b[39mraise\u001b[39;00m DimensionMismatchError(error_message,\n\u001b[1;32m   2460\u001b[0m                                          get_dimensions(newkeyset[k]))\n\u001b[0;32m-> 2462\u001b[0m result \u001b[39m=\u001b[39m f(\u001b[39m*\u001b[39;49margs, \u001b[39m*\u001b[39;49m\u001b[39m*\u001b[39;49mkwds)\n\u001b[1;32m   2463\u001b[0m \u001b[39mif\u001b[39;00m \u001b[39m'\u001b[39m\u001b[39mresult\u001b[39m\u001b[39m'\u001b[39m \u001b[39min\u001b[39;00m au:\n\u001b[1;32m   2464\u001b[0m     \u001b[39mif\u001b[39;00m \u001b[39misinstance\u001b[39m(au[\u001b[39m'\u001b[39m\u001b[39mresult\u001b[39m\u001b[39m'\u001b[39m], Callable) \u001b[39mand\u001b[39;00m au[\u001b[39m'\u001b[39m\u001b[39mresult\u001b[39m\u001b[39m'\u001b[39m] \u001b[39m!=\u001b[39m \u001b[39mbool\u001b[39m:\n",
      "File \u001b[0;32m~/opt/anaconda3/envs/rnn/lib/python3.10/site-packages/brian2/core/network.py:1007\u001b[0m, in \u001b[0;36mNetwork.run\u001b[0;34m(self, duration, report, report_period, namespace, profile, level)\u001b[0m\n\u001b[1;32m   1004\u001b[0m \u001b[39mif\u001b[39;00m namespace \u001b[39mis\u001b[39;00m \u001b[39mNone\u001b[39;00m:\n\u001b[1;32m   1005\u001b[0m     namespace \u001b[39m=\u001b[39m get_local_namespace(level\u001b[39m=\u001b[39mlevel\u001b[39m+\u001b[39m\u001b[39m3\u001b[39m)\n\u001b[0;32m-> 1007\u001b[0m \u001b[39mself\u001b[39;49m\u001b[39m.\u001b[39;49mbefore_run(namespace)\n\u001b[1;32m   1009\u001b[0m \u001b[39mif\u001b[39;00m \u001b[39mlen\u001b[39m(all_objects) \u001b[39m==\u001b[39m \u001b[39m0\u001b[39m:\n\u001b[1;32m   1010\u001b[0m     \u001b[39mreturn\u001b[39;00m  \u001b[39m# TODO: raise an error? warning?\u001b[39;00m\n",
      "File \u001b[0;32m~/opt/anaconda3/envs/rnn/lib/python3.10/site-packages/brian2/core/base.py:293\u001b[0m, in \u001b[0;36mdevice_override.<locals>.device_override_decorator.<locals>.device_override_decorated_function\u001b[0;34m(*args, **kwds)\u001b[0m\n\u001b[1;32m    291\u001b[0m     \u001b[39mreturn\u001b[39;00m \u001b[39mgetattr\u001b[39m(curdev, name)(\u001b[39m*\u001b[39margs, \u001b[39m*\u001b[39m\u001b[39m*\u001b[39mkwds)\n\u001b[1;32m    292\u001b[0m \u001b[39melse\u001b[39;00m:\n\u001b[0;32m--> 293\u001b[0m     \u001b[39mreturn\u001b[39;00m func(\u001b[39m*\u001b[39;49margs, \u001b[39m*\u001b[39;49m\u001b[39m*\u001b[39;49mkwds)\n",
      "File \u001b[0;32m~/opt/anaconda3/envs/rnn/lib/python3.10/site-packages/brian2/core/network.py:887\u001b[0m, in \u001b[0;36mNetwork.before_run\u001b[0;34m(self, run_namespace)\u001b[0m\n\u001b[1;32m    883\u001b[0m objnames \u001b[39m=\u001b[39m \u001b[39m'\u001b[39m\u001b[39m, \u001b[39m\u001b[39m'\u001b[39m\u001b[39m.\u001b[39mjoin(obj\u001b[39m.\u001b[39mname \u001b[39mfor\u001b[39;00m obj \u001b[39min\u001b[39;00m all_objects)\n\u001b[1;32m    884\u001b[0m logger\u001b[39m.\u001b[39mdebug(\u001b[39mf\u001b[39m\u001b[39m\"\u001b[39m\u001b[39mPreparing network \u001b[39m\u001b[39m'\u001b[39m\u001b[39m{\u001b[39;00m\u001b[39mself\u001b[39m\u001b[39m.\u001b[39mname\u001b[39m}\u001b[39;00m\u001b[39m'\u001b[39m\u001b[39m with \u001b[39m\u001b[39m{\u001b[39;00m\u001b[39mlen\u001b[39m(all_objects)\u001b[39m}\u001b[39;00m\u001b[39m \u001b[39m\u001b[39m\"\u001b[39m\n\u001b[1;32m    885\u001b[0m              \u001b[39mf\u001b[39m\u001b[39m\"\u001b[39m\u001b[39mobjects: \u001b[39m\u001b[39m{\u001b[39;00mobjnames\u001b[39m}\u001b[39;00m\u001b[39m\"\u001b[39m, \u001b[39m\"\u001b[39m\u001b[39mbefore_run\u001b[39m\u001b[39m\"\u001b[39m)\n\u001b[0;32m--> 887\u001b[0m \u001b[39mself\u001b[39;49m\u001b[39m.\u001b[39;49mcheck_dependencies()\n\u001b[1;32m    889\u001b[0m \u001b[39mfor\u001b[39;00m obj \u001b[39min\u001b[39;00m all_objects:\n\u001b[1;32m    890\u001b[0m     \u001b[39mif\u001b[39;00m obj\u001b[39m.\u001b[39mactive:\n",
      "File \u001b[0;32m~/opt/anaconda3/envs/rnn/lib/python3.10/site-packages/brian2/core/network.py:825\u001b[0m, in \u001b[0;36mNetwork.check_dependencies\u001b[0;34m(self)\u001b[0m\n\u001b[1;32m    823\u001b[0m \u001b[39mfor\u001b[39;00m dependency \u001b[39min\u001b[39;00m obj\u001b[39m.\u001b[39m_dependencies:\n\u001b[1;32m    824\u001b[0m     \u001b[39mif\u001b[39;00m \u001b[39mnot\u001b[39;00m dependency \u001b[39min\u001b[39;00m all_ids:\n\u001b[0;32m--> 825\u001b[0m         \u001b[39mraise\u001b[39;00m \u001b[39mValueError\u001b[39;00m(\u001b[39mf\u001b[39m\u001b[39m\"\u001b[39m\u001b[39m'\u001b[39m\u001b[39m{\u001b[39;00mobj\u001b[39m.\u001b[39mname\u001b[39m}\u001b[39;00m\u001b[39m'\u001b[39m\u001b[39m has been included in the network \u001b[39m\u001b[39m\"\u001b[39m\n\u001b[1;32m    826\u001b[0m                          \u001b[39mf\u001b[39m\u001b[39m\"\u001b[39m\u001b[39mbut not the object on which it \u001b[39m\u001b[39m\"\u001b[39m\n\u001b[1;32m    827\u001b[0m                          \u001b[39mf\u001b[39m\u001b[39m\"\u001b[39m\u001b[39mdepends.\u001b[39m\u001b[39m\"\u001b[39m)\n",
      "\u001b[0;31mValueError\u001b[0m: 'statemonitor' has been included in the network but not the object on which it depends."
     ]
    }
   ],
   "source": [
    "defaultclock.dt = 1*ms\n",
    "start_scope()\n",
    "# Monitor voltage and Ip\n",
    "M = StateMonitor(neuron, ['V', 'Ip', 'Ih'], record=True, dt=10*ms)\n",
    "r1.net = Network(collect())\n",
    "# r1.net.add(M)\n",
    "\n",
    "# self.model.Ca = Cainf\n",
    "neuron.V = -65.78*mV\n",
    "neuron.A = 0*pA\n",
    "# Initialize gating variables\n",
    "r1.net.run(1*ms, namespace=r1.namespace)\n",
    "# self.model.nKx = neuron.infKx[:][0]\n",
    "# self.model.mKv = neuron.infmKv[:][0]\n",
    "# self.model.mCa = neuron.infmCa[:][0]\n",
    "# self.model.hCa = neuron.infhCa[:][0]\n",
    "neuron.nh = neuron.infh[:][0]\n",
    "\n",
    "r1.net.run(999*ms, namespace=r1.namespace)\n",
    "neuron.A = 40*pA\n",
    "r1.net.run(6000*ms,  namespace=r1.namespace)\n",
    "neuron.A = 0*pA\n",
    "r1.net.run(6000*ms,  namespace=r1.namespace)\n",
    "plot(M.t/ms, M.V[0]/mV)\n",
    "xlabel('Time (ms)')\n",
    "ylabel('Voltage (mV)')\n",
    "\n",
    "plt.figure()\n",
    "plot(M.t/ms, M.Ip[0]/pA)\n",
    "xlabel('Time (ms)')\n",
    "ylabel('Photocurrent (pA)')\n",
    "\n",
    "# print(r1.net)"
   ]
  },
  {
   "cell_type": "code",
   "execution_count": 39,
   "metadata": {},
   "outputs": [
    {
     "data": {
      "text/plain": [
       "<spatialneuron_4.V: array([-44.03153371]) * mvolt>"
      ]
     },
     "execution_count": 39,
     "metadata": {},
     "output_type": "execute_result"
    }
   ],
   "source": [
    "r1.model.V"
   ]
  },
  {
   "cell_type": "code",
   "execution_count": null,
   "metadata": {},
   "outputs": [],
   "source": []
  }
 ],
 "metadata": {
  "kernelspec": {
   "display_name": "rnn",
   "language": "python",
   "name": "python3"
  },
  "language_info": {
   "codemirror_mode": {
    "name": "ipython",
    "version": 3
   },
   "file_extension": ".py",
   "mimetype": "text/x-python",
   "name": "python",
   "nbconvert_exporter": "python",
   "pygments_lexer": "ipython3",
   "version": "3.10.6"
  },
  "orig_nbformat": 4
 },
 "nbformat": 4,
 "nbformat_minor": 2
}
